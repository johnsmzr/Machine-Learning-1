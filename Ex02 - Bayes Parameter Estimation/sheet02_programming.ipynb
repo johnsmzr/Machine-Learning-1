{
  "nbformat": 4,
  "nbformat_minor": 0,
  "metadata": {
    "kernelspec": {
      "display_name": "Python 3",
      "language": "python",
      "name": "python3"
    },
    "language_info": {
      "codemirror_mode": {
        "name": "ipython",
        "version": 3
      },
      "file_extension": ".py",
      "mimetype": "text/x-python",
      "name": "python",
      "nbconvert_exporter": "python",
      "pygments_lexer": "ipython3",
      "version": "3.8.10"
    },
    "colab": {
      "name": "sheet02-programming.ipynb",
      "provenance": [],
      "collapsed_sections": []
    }
  },
  "cells": [
    {
      "cell_type": "markdown",
      "metadata": {
        "id": "hO88UY8IX3TN"
      },
      "source": [
        "# Maximum Likelihood Parameter Estimation\n",
        "\n",
        "In this first exercise, we would like to use the maximum-likelihood method to estimate the best parameter of a data density model $p(x|\\theta)$ with respect to some dataset $\\mathcal{D} = (x_1,\\dots,x_N)$, and use that approach to build a classifier. Assuming the data is generated independently and identically distributed (iid.), the dataset likelihood is given by\n",
        "$$\n",
        "p(\\mathcal{D}|\\theta) = \\prod_{k=1}^N p(x_k|\\theta)\n",
        "$$\n",
        "and the maximum likelihood solution is then computed as\n",
        "\\begin{align*}\n",
        "\\hat{\\theta}\n",
        "&= \\text{arg}\\max_\\theta ~ p(\\mathcal{D}|\\theta)\\\\\n",
        "&= \\text{arg}\\max_\\theta ~ \\log p(\\mathcal{D}|\\theta)\n",
        "\\end{align*}\n",
        "where the log term can also be expressed as a sum, i.e.\n",
        "$$\n",
        "\\log p(\\mathcal{D}|\\theta) = \\sum_{k=1}^N \\log p(x_k|\\theta).\n",
        "$$\n",
        "As a first step, we load some useful libraries for numerical computations and plotting."
      ]
    },
    {
      "cell_type": "code",
      "metadata": {
        "id": "35uQ-hHBX3TQ"
      },
      "source": [
        "import numpy as np\n",
        "import matplotlib\n",
        "%matplotlib inline\n",
        "from matplotlib import pyplot as plt\n",
        "na = np.newaxis"
      ],
      "execution_count": 1,
      "outputs": []
    },
    {
      "cell_type": "markdown",
      "metadata": {
        "id": "I4KNrAyeX3TS"
      },
      "source": [
        "We now consider the univariate data density model \n",
        "\n",
        "$$\n",
        "p(x|\\theta) = \\frac1\\pi \\frac{1}{1+(x-\\theta)^2}\n",
        "$$\n",
        "\n",
        "also known as the Cauchy distribution with fixed parameter $\\gamma=1$, and with parameter $\\theta$ unknown. Compared to the Gaussian distribution, the Cauchy distribution is heavy-tailed, and this can be useful to handle the presence of outliers in the data generation process. The probability density function is implemented below."
      ]
    },
    {
      "cell_type": "code",
      "metadata": {
        "id": "5fSazEA8X3TS"
      },
      "source": [
        "def pdf(X,THETA):\n",
        "    return (1.0 / np.pi) * (1.0 / (1+(X-THETA)**2))"
      ],
      "execution_count": 2,
      "outputs": []
    },
    {
      "cell_type": "markdown",
      "metadata": {
        "id": "EwJY3j0NX3TS"
      },
      "source": [
        "Note that the function can be called with scalars or with numpy arrays, and if feeding arrays of different shape, numpy broadcasting rules will apply. Our first step will be to implement a function that estimates the optimal parameter $\\hat{\\theta}$ in the maximum likelihood sense for some dataset $\\mathcal{D}$.\n",
        "\n",
        "**Task (10 P):**\n",
        "\n",
        "* **Implement a function that takes a dataset $\\mathcal{D}$ as input (given as one-dimensional array of numbers) and a list of candidate parameters $\\theta$ (also given as a one-dimensional array), and returns a one-dimensional array containing the log-likelihood w.r.t. the dataset $\\mathcal{D}$ for each parameter $\\theta$.**"
      ]
    },
    {
      "cell_type": "code",
      "metadata": {
        "id": "o27vmLqSX3TT"
      },
      "source": [
        "def ll(D,THETA):\n",
        "    res = []\n",
        "    for theta in THETA:\n",
        "      res.append(np.sum(np.log(pdf(D, theta))))\n",
        "    return np.array(res)"
      ],
      "execution_count": 3,
      "outputs": []
    },
    {
      "cell_type": "markdown",
      "metadata": {
        "id": "-ipVo8pmX3TT"
      },
      "source": [
        "To test the method, we apply it to some dataset, and plot the log-likelihood for some plausible range of parameters $\\theta$."
      ]
    },
    {
      "cell_type": "code",
      "metadata": {
        "colab": {
          "base_uri": "https://localhost:8080/",
          "height": 281
        },
        "id": "J8KBR6pvX3TU",
        "outputId": "060d327e-631e-46c2-df0d-56a017439e47"
      },
      "source": [
        "D = np.array([ 2.803, -1.563, -0.853,  2.212, -0.334,  2.503])\n",
        "\n",
        "THETA = np.linspace(-10,10,1001)\n",
        "\n",
        "plt.grid(True)\n",
        "plt.plot(THETA,ll(D,THETA))\n",
        "plt.xlabel(r'$\\theta$')\n",
        "plt.ylabel(r'$\\log p(\\mathcal{D}|\\theta)$')\n",
        "plt.show()"
      ],
      "execution_count": 4,
      "outputs": [
        {
          "output_type": "display_data",
          "data": {
            "image/png": "[encoded data removed]",
            "text/plain": [
              "<Figure size 432x288 with 1 Axes>"
            ]
          },
          "metadata": {
            "needs_background": "light"
          }
        }
      ]
    },
    {
      "cell_type": "markdown",
      "metadata": {
        "id": "8NgbZFGjX3TU"
      },
      "source": [
        "We observe that the likelihood has two peaks: one around $\\theta=-0.5$ and one around $\\theta=2$. However, the highest peak is the second one, hence, the second peak is retained as a maximum likelihood solution."
      ]
    },
    {
      "cell_type": "markdown",
      "metadata": {
        "id": "I3P_DfUIX3TV"
      },
      "source": [
        "### Building a Classifier\n",
        "\n",
        "We now would like to use the maximum likelihood technique to build a classifier. We consider a labeled dataset where the data associated to the two classes are given by:"
      ]
    },
    {
      "cell_type": "code",
      "metadata": {
        "id": "1LCa_e--X3TV"
      },
      "source": [
        "D1 = np.array([ 2.803, -1.563, -0.853,  2.212, -0.334,  2.503])\n",
        "D2 = np.array([-4.510, -3.316, -3.050, -3.108, -2.315])"
      ],
      "execution_count": 5,
      "outputs": []
    },
    {
      "cell_type": "markdown",
      "metadata": {
        "id": "JxMGSOjzX3TV"
      },
      "source": [
        "To be able to classify new data points, we consider the discriminant function\n",
        "\n",
        "$$\n",
        "g(x) = \\log P(x|\\hat{\\theta}_1) -  \\log P(x|\\hat{\\theta}_2) + \\log P(\\omega_1) - \\log P(\\omega_2)\n",
        "$$\n",
        "\n",
        "were the first two terms can be computed based on our maximum likelihood estimates, and where the last two terms are the prior probabilities. The function $g(x)$ produces the decision $\\omega_1$ if $g(x) > 0$ and $\\omega_2$ if $g(x) < 0$. We would like to implement a maximum-likelihood based classifier.\n",
        "\n",
        "**Tasks (10 P):**\n",
        "\n",
        "* **Implement the function `fit` that receives as input a vector of candidate parameters $\\theta$ and the dataset associated to each class, and produces the maximum likelihood parameter estimates.** *(Hint: from your function `fit`, you can call the function `ll` you have previously implemented.)*\n",
        "\n",
        "\n",
        "* **Implement the function `predict` that takes as input the prior probability for each class and a vector of points X on which to evaluate the discriminant function, and that outputs a vector containing the value of $g$ for each point in X.**"
      ]
    },
    {
      "cell_type": "code",
      "metadata": {
        "id": "VVVtfylDX3TW"
      },
      "source": [
        "class MLClassifier:\n",
        "    \n",
        "    def fit(self,THETA,D1,D2):\n",
        "      res1 = ll(D1,THETA)\n",
        "      res2 = ll(D2,THETA)\n",
        "\n",
        "      self.theta1 = THETA[np.argmax(res1)]\n",
        "      self.theta2 = THETA[np.argmax(res2)]\n",
        "        \n",
        "    def predict(self,X,p1,p2):\n",
        "      return np.log(pdf(X, self.theta1)) - np.log(pdf(X, self.theta2)) + np.log(p1) - np.log(p2)"
      ],
      "execution_count": 6,
      "outputs": []
    },
    {
      "cell_type": "markdown",
      "metadata": {
        "id": "HCkYW0npX3TW"
      },
      "source": [
        "Once these two functions have been implemented, the maximum likelihood classifier can be applied to our labeled data, and the decision function it implements can be visualized."
      ]
    },
    {
      "cell_type": "code",
      "metadata": {
        "colab": {
          "base_uri": "https://localhost:8080/",
          "height": 279
        },
        "id": "4w7R_Pt6X3TW",
        "outputId": "a90561ac-05cc-4c37-f95b-e3838e7657ba"
      },
      "source": [
        "X = np.linspace(-10,10,1001)\n",
        "\n",
        "plt.grid(True)\n",
        "\n",
        "mlcl = MLClassifier()\n",
        "mlcl.fit(THETA,D1,D2)\n",
        "\n",
        "plt.plot(X,mlcl.predict(X,0.5,0.5))\n",
        "plt.plot(X,0*X,color='black',ls='dotted')\n",
        "\n",
        "plt.xlabel(r'$x$')\n",
        "plt.ylabel(r'$g(x)$')\n",
        "\n",
        "for d1 in D1: plt.plot([d1,d1],[0,+0.5],color='black')\n",
        "for d2 in D2: plt.plot([d2,d2],[0,-0.5],color='black')"
      ],
      "execution_count": 7,
      "outputs": [
        {
          "output_type": "display_data",
          "data": {
            "image/png": "[encoded data removed]",
            "text/plain": [
              "<Figure size 432x288 with 1 Axes>"
            ]
          },
          "metadata": {
            "needs_background": "light"
          }
        }
      ]
    },
    {
      "cell_type": "markdown",
      "metadata": {
        "id": "J5pDnCxtX3TX"
      },
      "source": [
        "Here, we observe that the model essentially learns a threshold classifier with threshold approximately $-0.5$. However, we note that the threshold seems to be too high to properly classify the data. One reason for this is the fact that maximum likelihood estimate retains only the best parameter. Here, the model for the first class focuses mainly on the peak at $x=2$ and treat examples $x < 0$ as outliers, without considering the possibility that the peak at $\\theta=2$ might actually be the outlier."
      ]
    },
    {
      "cell_type": "markdown",
      "metadata": {
        "id": "taw9DdTuX3TX"
      },
      "source": [
        "# Bayes Parameter Estimation\n",
        "\n",
        "Let us now bypass the computation of a maximum likelihood estimate of parameters and adopt instead a full Bayesian approach. We will consider the same data density model and datasets as in the maximum likelihood exercise but we include now a prior distribution over the parameters. Specifically, we set for both classes the prior distribution:\n",
        "\n",
        "$$\n",
        "p(\\theta) = \\frac{1}{10\\pi} \\frac{1}{1+(\\theta/10)^2}\n",
        "$$\n",
        "\n",
        "Given a dataset $\\mathcal{D}$, the posterior distribution for the unknown parameter $\\theta$ can then be obtained from the Bayes rule:\n",
        "\n",
        "$$\n",
        "p(\\theta | \\mathcal{D}) = \\frac{p(\\mathcal{D} | \\theta)p(\\theta)}{\\int p(\\mathcal{D} | \\theta)p(\\theta) d\\theta}\n",
        "$$\n",
        "\n",
        "The integration can be performed numerically using the trapezoidal rule."
      ]
    },
    {
      "cell_type": "markdown",
      "metadata": {
        "id": "B09p7-lmX3TX"
      },
      "source": [
        "**Task (10 P):**\n",
        "\n",
        "* **Implement the prior and posterior functions below. These function receive as input a vector of parameters $\\theta$ (assumed to be sorted from smallest to largest, linearly spaced, and covering the range of values where most of the probability mass lies). The posterior function also receive a dataset $\\mathcal{D}$ as input. Both functions return a vector containing the probability scores associated to each value of $\\theta$.**"
      ]
    },
    {
      "cell_type": "code",
      "metadata": {
        "id": "NJAV7LjE5s2a"
      },
      "source": [
        "def p_d_THETA(D, THETA):\n",
        "  res = []\n",
        "  for theta in THETA:\n",
        "    res.append(np.prod(pdf(D, theta)))\n",
        "  return np.array(res)"
      ],
      "execution_count": 8,
      "outputs": []
    },
    {
      "cell_type": "code",
      "metadata": {
        "id": "Wy7KttldX3TY"
      },
      "source": [
        "def prior(THETA):\n",
        "  return 1 / (10 * np.pi) * 1 / (1 + np.power(THETA/10, 2))\n",
        "\n",
        "def posterior(D,THETA):\n",
        "  p_d_theta = p_d_THETA(D, THETA)\n",
        "  integrate = np.trapz(p_d_theta * prior(THETA), dx=0.01)\n",
        "  return p_d_theta * prior(THETA) / integrate"
      ],
      "execution_count": 9,
      "outputs": []
    },
    {
      "cell_type": "markdown",
      "metadata": {
        "id": "pLVaHG7iX3TY"
      },
      "source": [
        "To verify the implementation of the two functions, we apply them to the dataset $\\mathcal{D}$ defined above and with a broad range of parameters $\\theta$."
      ]
    },
    {
      "cell_type": "code",
      "metadata": {
        "colab": {
          "base_uri": "https://localhost:8080/",
          "height": 281
        },
        "id": "uyhW8CA1X3TY",
        "outputId": "f3508c42-cf36-4022-c4a8-0c411955a3bf"
      },
      "source": [
        "THETA = np.linspace(-100,100,10001)\n",
        "\n",
        "plt.grid(True)\n",
        "plt.plot(THETA,np.log(prior(THETA)),label=r'$p(\\theta)$')\n",
        "plt.plot(THETA,np.log(posterior(D,THETA)),label=r'$p(\\theta|\\mathcal{D})$')\n",
        "plt.legend(); plt.xlabel(r'$\\theta$'); plt.show()"
      ],
      "execution_count": 10,
      "outputs": [
        {
          "output_type": "display_data",
          "data": {
            "image/png": "[encoded data removed]",
            "text/plain": [
              "<Figure size 432x288 with 1 Axes>"
            ]
          },
          "metadata": {
            "needs_background": "light"
          }
        }
      ]
    },
    {
      "cell_type": "markdown",
      "metadata": {
        "id": "hOT5DcUgX3TY"
      },
      "source": [
        "We observe that the posterior distribution is more concentrated to the specific values of the parameter that explain the dataset well. In particular, we observe the same two peaks around $\\theta=-0.5$ and $\\theta=2$ observed in the maximum likelihood exercise."
      ]
    },
    {
      "cell_type": "markdown",
      "metadata": {
        "id": "1g6DOSQKX3TY"
      },
      "source": [
        "### Building a Classifier\n",
        "\n",
        "We now would like to build a Bayes classifier based on the discriminant function\n",
        "\n",
        "$$\n",
        "h(x) = \\log P(x|\\mathcal{D}_1) -  \\log P(x|\\mathcal{D}_2) + \\log P(\\omega_1) - \\log P(\\omega_2)\n",
        "$$\n",
        "\n",
        "where the dataset-conditioned densities are obtained from the original data density model and the parameter posterior as\n",
        "\n",
        "$$\n",
        "p(x|\\mathcal{D}_j) = \\int p(x|\\theta) p(\\theta|\\mathcal{D}_j) d\\theta\n",
        "$$\n",
        "\n",
        "**Tasks (10 P):**\n",
        "\n",
        "* **Implement a function `fit` that produces the parameter posteriors $p(\\theta|\\mathcal{D}_1)$ and $p(\\theta|\\mathcal{D}_2)$.**\n",
        "* **Implement a function `predict` computing the new discriminant function $h$ based on the dataset-conditioned data densities.**"
      ]
    },
    {
      "cell_type": "code",
      "metadata": {
        "id": "b0WRoblXGXU5"
      },
      "source": [
        "def new_pdf(X,THETA):\n",
        "  res = []\n",
        "  for theta in THETA:\n",
        "    res.append((1.0 / np.pi) * (1.0 / (1+(X-theta)**2)))\n",
        "  res = np.array(res)\n",
        "  return res"
      ],
      "execution_count": 11,
      "outputs": []
    },
    {
      "cell_type": "code",
      "metadata": {
        "id": "azzP9BomX3TZ"
      },
      "source": [
        "class BayesClassifier:\n",
        "    \n",
        "    def fit(self,THETA,D1,D2):\n",
        "      self.THETA = THETA\n",
        "      self.post1 = posterior(D1, THETA)\n",
        "      self.post2 = posterior(D2, THETA)\n",
        "        \n",
        "    def predict(self,X,p1,p2):\n",
        "      res = []\n",
        "      for x in X:\n",
        "        res.append(np.log(np.trapz(self.post1 * new_pdf(x,self.THETA),dx=0.001)) - np.log(np.trapz(self.post2 * new_pdf(x,self.THETA),dx=0.001)) + np.log(p1) - np.log(p2))\n",
        "      return np.array(res)"
      ],
      "execution_count": 12,
      "outputs": []
    },
    {
      "cell_type": "markdown",
      "metadata": {
        "id": "btCM6m2hX3TZ"
      },
      "source": [
        "We note that the function `predict` is computationally more expensive than the one for maximum likelihood since it involves computing an integral for each point to be predicted.\n",
        "\n",
        "However, the quality of the prediction also differs compared to that of the maximum likelihood method. In the plot below, we compare the ML and Bayes approaches."
      ]
    },
    {
      "cell_type": "code",
      "metadata": {
        "colab": {
          "base_uri": "https://localhost:8080/",
          "height": 279
        },
        "id": "wWewhrIyX3TZ",
        "outputId": "ebbd7287-ff58-40c8-a203-bd82dc979d36"
      },
      "source": [
        "X = np.linspace(-10,10,1001)\n",
        "\n",
        "bacl = BayesClassifier()\n",
        "bacl.fit(THETA,D1,D2)\n",
        "\n",
        "\n",
        "plt.grid(True)\n",
        "plt.plot(X,mlcl.predict(X,0.5,0.5),label='ML')\n",
        "plt.plot(X,bacl.predict(X,0.5,0.5),label='Bayes')\n",
        "\n",
        "plt.plot(X,0*X,color='black',ls='dotted')\n",
        "plt.xlabel(r'$x$'); plt.ylabel(r'$g(x)$')\n",
        "plt.legend()\n",
        "\n",
        "for d1 in D1: plt.plot([d1,d1],[0,+0.5],color='black')\n",
        "for d2 in D2: plt.plot([d2,d2],[0,-0.5],color='black')"
      ],
      "execution_count": 13,
      "outputs": [
        {
          "output_type": "display_data",
          "data": {
            "image/png": "[encoded data removed]",
            "text/plain": [
              "<Figure size 432x288 with 1 Axes>"
            ]
          },
          "metadata": {
            "needs_background": "light"
          }
        }
      ]
    },
    {
      "cell_type": "markdown",
      "metadata": {
        "id": "2_8SKmSDX3TZ"
      },
      "source": [
        "We observe that the Bayes classifier has generally lower output scores and its decision boundary has been noticeably shifted to the left, leading to better predictions for the current data. In this particular case, the difference between the two models can be explained by the fact that the Bayes one better integrates the possibility that negative examples for the first class are not necessarily outliers."
      ]
    }
  ]
}